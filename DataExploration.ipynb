{
 "cells": [
  {
   "cell_type": "code",
   "execution_count": 3,
   "metadata": {},
   "outputs": [],
   "source": [
    "import pandas as pd"
   ]
  },
  {
   "cell_type": "code",
   "execution_count": 4,
   "metadata": {},
   "outputs": [],
   "source": [
    "df = pd.read_csv('~/Dropbox/Element/Phase2/TradesJan25.csv')"
   ]
  },
  {
   "cell_type": "code",
   "execution_count": 10,
   "metadata": {},
   "outputs": [
    {
     "data": {
      "text/plain": [
       "Index(['fillNumber', 'version', 'execEngineType', 'sysEnvironment',\n",
       "       'runStatus', 'dataCenter', 'execStatus', 'execShape', 'packageId',\n",
       "       'parentNumber',\n",
       "       ...\n",
       "       'minTickSize', 'priceFormat', 'uPriceFormat', 'liveUPrc', 'liveMark',\n",
       "       'srcTimestamp', 'sgwTimestamp', 'engTimestamp', 'timestamp',\n",
       "       'timestamp_us'],\n",
       "      dtype='object', length=244)"
      ]
     },
     "execution_count": 10,
     "metadata": {},
     "output_type": "execute_result"
    }
   ],
   "source": [
    "df.columns"
   ]
  },
  {
   "cell_type": "code",
   "execution_count": 4,
   "metadata": {},
   "outputs": [],
   "source": [
    "# Drop zero fill rows\n",
    "df = df[df['fillQuantity'] > 0]"
   ]
  },
  {
   "cell_type": "code",
   "execution_count": 5,
   "metadata": {},
   "outputs": [],
   "source": [
    "# Deal with apparent float precision issues to return true penny prices\n",
    "round_cols = [col for col in df.columns[3:] if df[col].dtype=='float64']\n",
    "round_cols = [col for col in round_cols if ('Vol' not in col) and ('Prob' not in col) and ('Mark' not in col)]\n",
    "for col in round_cols:\n",
    "    df[col] = df[col].apply(lambda x: round(x, 2))"
   ]
  },
  {
   "cell_type": "code",
   "execution_count": 6,
   "metadata": {},
   "outputs": [],
   "source": [
    "# Convert Date Cols and add in microsecond cols\n",
    "def col_to_time(col):\n",
    "    df[col] = df[col].apply(pd.to_datetime)\n",
    "    df[col] = df[col].dt.tz_localize('America/Chicago').dt.tz_convert('America/New_York')\n",
    "    s = df[col+'_us'].apply(pd.Timedelta, unit='micros')\n",
    "    df[col] = df[col] + s\n",
    "    \n",
    "for col in ['childDttm', 'fillTransactDttm']:\n",
    "    col_to_time(col)\n",
    "\n",
    "df['parentDttm'] = df['parentDttm'].apply(pd.to_datetime)\n",
    "df['parentDttm'] = df['parentDttm'].dt.tz_localize('America/Chicago').dt.tz_convert('America/New_York')"
   ]
  },
  {
   "cell_type": "code",
   "execution_count": 7,
   "metadata": {},
   "outputs": [
    {
     "data": {
      "text/plain": [
       "array([1136625940034889922,  763530857469211635])"
      ]
     },
     "execution_count": 7,
     "metadata": {},
     "output_type": "execute_result"
    }
   ],
   "source": [
    "parents = df['baseParentNumber'].unique()\n",
    "parents"
   ]
  },
  {
   "cell_type": "code",
   "execution_count": 9,
   "metadata": {},
   "outputs": [],
   "source": [
    "order1 = df[df['baseParentNumber'] == parents[0]] # option\n",
    "order2 = df[df['baseParentNumber'] == parents[1]] # stock hedge"
   ]
  },
  {
   "cell_type": "code",
   "execution_count": 10,
   "metadata": {},
   "outputs": [
    {
     "name": "stdout",
     "output_type": "stream",
     "text": [
      "<DatetimeArray>\n",
      "['2021-01-25 10:09:42-05:00']\n",
      "Length: 1, dtype: datetime64[ns, America/New_York]\n",
      "<DatetimeArray>\n",
      "['2021-01-25 10:09:44-05:00', '2021-01-25 10:10:03-05:00',\n",
      " '2021-01-25 10:10:06-05:00', '2021-01-25 10:10:13-05:00',\n",
      " '2021-01-25 10:10:33-05:00', '2021-01-25 10:10:34-05:00',\n",
      " '2021-01-25 10:11:02-05:00', '2021-01-25 10:11:08-05:00',\n",
      " '2021-01-25 10:11:11-05:00', '2021-01-25 10:33:42-05:00',\n",
      " '2021-01-25 10:33:44-05:00', '2021-01-25 10:57:38-05:00',\n",
      " '2021-01-25 11:21:36-05:00', '2021-01-25 11:45:47-05:00',\n",
      " '2021-01-25 11:46:39-05:00', '2021-01-25 11:46:43-05:00',\n",
      " '2021-01-25 11:46:45-05:00', '2021-01-25 11:46:46-05:00',\n",
      " '2021-01-25 11:46:48-05:00', '2021-01-25 11:46:49-05:00',\n",
      " '2021-01-25 11:46:55-05:00', '2021-01-25 11:46:56-05:00',\n",
      " '2021-01-25 12:10:14-05:00', '2021-01-25 12:12:35-05:00',\n",
      " '2021-01-25 12:12:53-05:00', '2021-01-25 12:13:21-05:00',\n",
      " '2021-01-25 12:13:25-05:00', '2021-01-25 12:13:28-05:00',\n",
      " '2021-01-25 12:33:27-05:00', '2021-01-25 12:33:33-05:00',\n",
      " '2021-01-25 12:33:37-05:00', '2021-01-25 12:33:38-05:00',\n",
      " '2021-01-25 12:33:45-05:00', '2021-01-25 12:33:49-05:00',\n",
      " '2021-01-25 12:33:53-05:00', '2021-01-25 12:33:55-05:00',\n",
      " '2021-01-25 12:34:01-05:00', '2021-01-25 12:34:03-05:00',\n",
      " '2021-01-25 12:34:05-05:00', '2021-01-25 12:34:06-05:00',\n",
      " '2021-01-25 12:58:28-05:00', '2021-01-25 12:58:34-05:00',\n",
      " '2021-01-25 12:58:35-05:00', '2021-01-25 13:01:42-05:00',\n",
      " '2021-01-25 13:01:49-05:00', '2021-01-25 13:01:59-05:00',\n",
      " '2021-01-25 13:04:40-05:00', '2021-01-25 13:05:38-05:00',\n",
      " '2021-01-25 13:06:19-05:00', '2021-01-25 13:22:18-05:00',\n",
      " '2021-01-25 13:45:53-05:00', '2021-01-25 13:45:58-05:00',\n",
      " '2021-01-25 13:46:00-05:00']\n",
      "Length: 53, dtype: datetime64[ns, America/New_York]\n"
     ]
    }
   ],
   "source": [
    "for o in [order1, order2]:\n",
    "    print(o['parentDttm'].unique())"
   ]
  },
  {
   "cell_type": "code",
   "execution_count": 11,
   "metadata": {},
   "outputs": [
    {
     "name": "stdout",
     "output_type": "stream",
     "text": [
      "100.00%\n",
      "0.20%\n"
     ]
    }
   ],
   "source": [
    "def calc_fil_pctSpd(df):\n",
    "    # Returns average fill as % of spread at arrival time.  0 = Bid, 0.5 = Mid, 1 = Ask\n",
    "    s = (df['fillPrice'] - df['fillBid']) / (df['fillAsk'] - df['fillBid']) * df['fillQuantity']\n",
    "    return s.sum() / df['fillQuantity'].sum()\n",
    "\n",
    "for o in [order1, order2]:\n",
    "    print(f'{calc_fil_pctSpd(o):.2%}')\n",
    "    \n",
    "# Ok.  'Active taker algos' only ever hit the bid or offer - they just think they're smart about when\n",
    "# The 'patient' algos seem to do very little making"
   ]
  },
  {
   "cell_type": "code",
   "execution_count": null,
   "metadata": {},
   "outputs": [],
   "source": [
    "# Compare delta adjusted fill vs arrival mid and mark\n",
    "arrival_ul = (order3.loc[order3.index[0], 'parentAsk'] + order3.loc[order3.index[0], 'parentBid'])/2\n",
    "arrival_idx = (order2.loc[order2.index[0], 'parentUAsk'] + order2.loc[order2.index[0], 'parentUBid'])/2\n",
    "arrival_mid = (order2.loc[order2.index[0], 'parentAsk'] + order2.loc[order2.index[0], 'parentBid'])/2\n",
    "arrival_mark = order2.loc[order2.index[0], 'parentMark']\n",
    "\n",
    "print(arrival_ul)\n",
    "print(arrival_idx)\n",
    "print(arrival_mid)\n",
    "print(arrival_mark)"
   ]
  },
  {
   "cell_type": "code",
   "execution_count": null,
   "metadata": {},
   "outputs": [],
   "source": [
    "# Delta adjust option fill by actual SPY execution\n",
    "avg_ul = (order3['fillPrice'] * order3['fillQuantity']).sum() / order3['fillQuantity'].sum()\n",
    "avg_opt = (order2['fillPrice'] * order2['fillQuantity']).sum() /  order2['fillQuantity'].sum() \n",
    "delta = order2.loc[order2.index[0], 'fillDe']\n",
    "delta_exec = order3['fillQuantity'].sum() / (order2['fillQuantity'].sum() * 100 * 10)\n",
    "print(delta, delta_exec)\n",
    "arrival_opt_adj = avg_opt + delta * (arrival_ul - avg_ul)\n",
    "print(avg_opt)\n",
    "print(arrival_opt_adj)\n",
    "print (arrival_opt_adj - arrival_mid)\n",
    "print (arrival_opt_adj - arrival_mark)"
   ]
  },
  {
   "cell_type": "code",
   "execution_count": null,
   "metadata": {},
   "outputs": [],
   "source": [
    "# Compare vs contract vega\n",
    "vega = order2.loc[order2.index[0], 'fillVe']\n",
    "print(vega)\n",
    "print((arrival_opt_adj - arrival_mid) / vega)\n",
    "print((arrival_opt_adj - arrival_mark) / vega)\n",
    "# so less than .1 vol discount vs. mark"
   ]
  },
  {
   "cell_type": "code",
   "execution_count": null,
   "metadata": {},
   "outputs": [],
   "source": [
    "# Compare vs (*not* fill-weighted) average spread\n",
    "spd_sum = (order2['fillAsk'] - order2['fillBid']).sum()\n",
    "half_spd = 0.5 * spd_sum / order2.shape[0]\n",
    "print(half_spd)\n",
    "print((arrival_opt_adj - arrival_mid) / half_spd)\n",
    "print((arrival_opt_adj - arrival_mark) / half_spd)\n",
    "\n",
    "# This doesn't look good.  It means we crossed spread on both options and delta\n",
    "# so ended up selling below the bid\n",
    "\n",
    "# Although - we only capture the bid-offer when it trades.  That might be when it's unusually tight\n",
    "\n",
    "# Also, this analysis doesn't take into account whether vol went down over the period.\n",
    "# We could use the ATM vols provided to investigate that"
   ]
  },
  {
   "cell_type": "code",
   "execution_count": null,
   "metadata": {},
   "outputs": [],
   "source": [
    "# Calculate theoretical delta adj as if exactly hedging each fill\n",
    "# pctCross is how much of spread to assume is crossed. 0 = bid, 1 = ask\n",
    "\n",
    "pctCross = 0.5\n",
    "ul_prices = (1 - pctCross) * order2['fillUBid'] + pctCross * order2['fillUAsk']\n",
    "avg_theo_ul = (ul_prices * order2['fillQuantity']).sum() / order2['fillQuantity'].sum()\n",
    "arrival_opt_theo_adj = avg_opt + delta * (arrival_idx - avg_theo_ul)\n",
    "arrival_opt_theo_adj\n",
    "\n",
    "# Interesting.  It seems that SPY is so tight and hedging so fast that it makes no difference\n",
    "# The execution price is dominated by the option fills"
   ]
  },
  {
   "cell_type": "code",
   "execution_count": null,
   "metadata": {},
   "outputs": [],
   "source": [
    "# For the stock trades, how many were making vs taking?\n",
    "\n",
    "def calc_post_pct(df):\n",
    "    post_shrs = df.loc[df['childOrderHandling']=='PostLimit', 'fillQuantity'].sum()\n",
    "    return post_shrs / df['fillQuantity'].sum()\n",
    "\n",
    "print(f'{calc_post_pct(order1):.1%}') # TwapAlpha\n",
    "print(f'{calc_post_pct(order3):.1%}') # Mix of AlphaVwap2pct and SpdrAuto"
   ]
  },
  {
   "cell_type": "code",
   "execution_count": null,
   "metadata": {},
   "outputs": [],
   "source": [
    "# An observation:\n",
    "half_spd_SPY = 0.5 * (order1['fillAsk'] - order1['fillBid']).sum() / order1.shape[0]\n",
    "opt_cost = half_spd * order2['fillQuantity'].sum() * 100\n",
    "spy_cost = half_spd_SPY * order3['fillQuantity'].sum()\n",
    "print(f'SPY hedge cost is {spy_cost / (spy_cost + opt_cost):.0%} of total cost.')"
   ]
  }
 ],
 "metadata": {
  "kernelspec": {
   "display_name": "element",
   "language": "python",
   "name": "element"
  },
  "language_info": {
   "codemirror_mode": {
    "name": "ipython",
    "version": 3
   },
   "file_extension": ".py",
   "mimetype": "text/x-python",
   "name": "python",
   "nbconvert_exporter": "python",
   "pygments_lexer": "ipython3",
   "version": "3.9.1"
  }
 },
 "nbformat": 4,
 "nbformat_minor": 4
}
