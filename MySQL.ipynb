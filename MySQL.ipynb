{
 "cells": [
  {
   "cell_type": "code",
   "execution_count": null,
   "metadata": {},
   "outputs": [],
   "source": [
    "from getpass import getpass\n",
    "from mysql.connector import connect, Error"
   ]
  },
  {
   "cell_type": "code",
   "execution_count": null,
   "metadata": {},
   "outputs": [],
   "source": [
    "try:\n",
    "    with connect(\n",
    "        host=\"198.102.4.55\",\n",
    "        port = \"3307\",\n",
    "        user=\"srdemo003\",\n",
    "        password=getpass(\"Enter password: \"),\n",
    "    ) as connection:\n",
    "        #read_db_query = \"SELECT * FROM srtrade009.msgsrparentexecution WHERE accnt = 'T.SRDEMO003'\"\n",
    "        read_db_query = \"SHOW DATABASES\"\n",
    "        with connection.cursor() as cursor:\n",
    "            cursor.execute(read_db_query)\n",
    "            my_obj = cursor.fetchall()\n",
    "except Error as e:\n",
    "    print(e)"
   ]
  },
  {
   "cell_type": "code",
   "execution_count": null,
   "metadata": {},
   "outputs": [],
   "source": [
    "my_obj"
   ]
  }
 ],
 "metadata": {
  "kernelspec": {
   "display_name": "element",
   "language": "python",
   "name": "element"
  },
  "language_info": {
   "codemirror_mode": {
    "name": "ipython",
    "version": 3
   },
   "file_extension": ".py",
   "mimetype": "text/x-python",
   "name": "python",
   "nbconvert_exporter": "python",
   "pygments_lexer": "ipython3",
   "version": "3.9.1"
  }
 },
 "nbformat": 4,
 "nbformat_minor": 4
}
