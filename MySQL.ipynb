{
 "cells": [
  {
   "cell_type": "code",
   "execution_count": 1,
   "metadata": {},
   "outputs": [],
   "source": [
    "from getpass import getpass\n",
    "from mysql.connector import connect, Error\n",
    "import pandas as pd"
   ]
  },
  {
   "cell_type": "code",
   "execution_count": null,
   "metadata": {},
   "outputs": [],
   "source": [
    "# Favourite tables \n",
    "# srtrade.msgsrparentbrkrstate\n",
    "# msgspdrparentbrkrstate\n",
    "# msgsrparentexecution"
   ]
  },
  {
   "cell_type": "code",
   "execution_count": 10,
   "metadata": {},
   "outputs": [
    {
     "name": "stdout",
     "output_type": "stream",
     "text": [
      "Enter password: ········\n"
     ]
    }
   ],
   "source": [
    "try:\n",
    "    with connect(\n",
    "        host=\"198.102.4.55\",\n",
    "        port = \"3307\",\n",
    "        user=\"srdemo003\",\n",
    "        password=getpass(\"Enter password: \"),\n",
    "    ) as connection:\n",
    "        get_col_query = \"SHOW COLUMNS FROM srtrade.msgsrparentbrkrstate\"\n",
    "        read_db_query = \"SELECT * FROM srtrade.msgsrparentbrkrstate WHERE accnt = 'T.SRDEMO003'\"\n",
    "        #read_db_query = \"SHOW DATABASES\"\n",
    "        with connection.cursor() as cursor:\n",
    "            cursor.execute(get_col_query)\n",
    "            cols = [c[0] for c in cursor.fetchall()]\n",
    "            cursor.execute(read_db_query)\n",
    "            results = pd.DataFrame(cursor.fetchall(), columns=cols)\n",
    "except Error as e:\n",
    "    print(e)"
   ]
  },
  {
   "cell_type": "code",
   "execution_count": 15,
   "metadata": {},
   "outputs": [
    {
     "data": {
      "text/plain": [
       "accnt                           object\n",
       "secKey_at                       object\n",
       "secKey_ts                       object\n",
       "secKey_tk                       object\n",
       "secKey_yr                        int64\n",
       "                             ...      \n",
       "sumMakeThrottleDelay           float64\n",
       "updateSrc                       object\n",
       "numUpdates                       int64\n",
       "timestamp               datetime64[ns]\n",
       "timestamp_us                     int64\n",
       "Length: 184, dtype: object"
      ]
     },
     "execution_count": 15,
     "metadata": {},
     "output_type": "execute_result"
    }
   ],
   "source": [
    "results.dtypes"
   ]
  },
  {
   "cell_type": "code",
   "execution_count": 12,
   "metadata": {},
   "outputs": [],
   "source": [
    "results.to_csv('~/Dropbox/Element/Phase2/BrkrStateJan26.csv')"
   ]
  }
 ],
 "metadata": {
  "kernelspec": {
   "display_name": "element",
   "language": "python",
   "name": "element"
  },
  "language_info": {
   "codemirror_mode": {
    "name": "ipython",
    "version": 3
   },
   "file_extension": ".py",
   "mimetype": "text/x-python",
   "name": "python",
   "nbconvert_exporter": "python",
   "pygments_lexer": "ipython3",
   "version": "3.9.1"
  }
 },
 "nbformat": 4,
 "nbformat_minor": 4
}
