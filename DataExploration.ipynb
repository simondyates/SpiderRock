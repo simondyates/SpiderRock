{
 "cells": [
  {
   "cell_type": "code",
   "execution_count": 1,
   "metadata": {},
   "outputs": [],
   "source": [
    "import pandas as pd"
   ]
  },
  {
   "cell_type": "code",
   "execution_count": 2,
   "metadata": {},
   "outputs": [],
   "source": [
    "df = pd.read_csv('~/Dropbox/Element/Phase2/TradesJan22.csv')"
   ]
  },
  {
   "cell_type": "code",
   "execution_count": 3,
   "metadata": {},
   "outputs": [],
   "source": [
    "# Drop zero fill rows\n",
    "df = df[df['fillQuantity'] > 0]"
   ]
  },
  {
   "cell_type": "code",
   "execution_count": 4,
   "metadata": {},
   "outputs": [],
   "source": [
    "# Deal with apparent float precision issues to return true penny prices\n",
    "round_cols = [col for col in df.columns[3:] if df[col].dtype=='float64']\n",
    "round_cols = [col for col in round_cols if ('Vol' not in col) and ('Prob' not in col) and ('Mark' not in col)]\n",
    "for col in round_cols:\n",
    "    df[col] = df[col].apply(lambda x: round(x, 2))"
   ]
  },
  {
   "cell_type": "code",
   "execution_count": 5,
   "metadata": {},
   "outputs": [],
   "source": [
    "# Convert Date Cols and add in microsecond cols\n",
    "def col_to_time(col):\n",
    "    df[col] = df[col].apply(pd.to_datetime)\n",
    "    df[col] = df[col].dt.tz_localize('America/Chicago').dt.tz_convert('America/New_York')\n",
    "    s = df[col+'_us'].apply(pd.Timedelta, unit='micros')\n",
    "    df[col] = df[col] + s\n",
    "    \n",
    "for col in ['childDttm', 'fillTransactDttm']:\n",
    "    col_to_time(col)\n",
    "\n",
    "df['parentDttm'] = df['parentDttm'].apply(lambda s: pd.to_datetime(s))\n",
    "df['parentDttm'] = df['parentDttm'].dt.tz_localize('America/Chicago').dt.tz_convert('America/New_York')"
   ]
  },
  {
   "cell_type": "code",
   "execution_count": 6,
   "metadata": {},
   "outputs": [
    {
     "data": {
      "text/plain": [
       "array([1.05556e+18, 1.13663e+18, 7.63531e+17, 1.05558e+18])"
      ]
     },
     "execution_count": 6,
     "metadata": {},
     "output_type": "execute_result"
    }
   ],
   "source": [
    "parents = df['parentNumber'].unique()\n",
    "parents"
   ]
  },
  {
   "cell_type": "code",
   "execution_count": 7,
   "metadata": {},
   "outputs": [],
   "source": [
    "order1 = df[df['parentNumber'] == parents[0]] # buying $15m of SPY to hedge overnight delta (40,000 shrs)\n",
    "order2 = df[df['parentNumber'] == parents[1]] # sell SPX Mar 3850 C autohedge AlphaVwap2pct (152 ctr)\n",
    "order3 = df[df['parentNumber'] == parents[2]] # autohedges (500,782 shrs)\n",
    "order4 = df[df['parentNumber'] == parents[3]] # sell SPX Mar 3850 C autohedge SpdrAuto(848 ctr)"
   ]
  },
  {
   "cell_type": "code",
   "execution_count": 8,
   "metadata": {},
   "outputs": [
    {
     "name": "stdout",
     "output_type": "stream",
     "text": [
      "<DatetimeArray>\n",
      "['2021-01-22 10:10:33-05:00']\n",
      "Length: 1, dtype: datetime64[ns, America/New_York]\n",
      "<DatetimeArray>\n",
      "['2021-01-22 12:29:06-05:00']\n",
      "Length: 1, dtype: datetime64[ns, America/New_York]\n",
      "<DatetimeArray>\n",
      "['2021-01-22 12:29:22-05:00', '2021-01-22 12:29:36-05:00',\n",
      " '2021-01-22 12:35:56-05:00', '2021-01-22 12:44:40-05:00',\n",
      " '2021-01-22 12:56:48-05:00', '2021-01-22 13:04:26-05:00',\n",
      " '2021-01-22 13:10:52-05:00', '2021-01-22 13:21:48-05:00',\n",
      " '2021-01-22 13:42:43-05:00', '2021-01-22 13:42:54-05:00',\n",
      " '2021-01-22 13:43:04-05:00', '2021-01-22 13:43:18-05:00',\n",
      " '2021-01-22 13:43:24-05:00', '2021-01-22 13:43:52-05:00',\n",
      " '2021-01-22 13:43:53-05:00', '2021-01-22 13:44:20-05:00',\n",
      " '2021-01-22 13:44:22-05:00', '2021-01-22 13:44:28-05:00',\n",
      " '2021-01-22 13:44:41-05:00', '2021-01-22 13:44:43-05:00',\n",
      " '2021-01-22 13:45:05-05:00', '2021-01-22 13:45:06-05:00',\n",
      " '2021-01-22 13:45:08-05:00', '2021-01-22 13:45:52-05:00']\n",
      "Length: 24, dtype: datetime64[ns, America/New_York]\n",
      "<DatetimeArray>\n",
      "['2021-01-22 13:38:05-05:00']\n",
      "Length: 1, dtype: datetime64[ns, America/New_York]\n"
     ]
    }
   ],
   "source": [
    "for o in [order1, order2, order3, order4]:\n",
    "    print(o['parentDttm'].unique())"
   ]
  },
  {
   "cell_type": "code",
   "execution_count": 9,
   "metadata": {},
   "outputs": [
    {
     "name": "stdout",
     "output_type": "stream",
     "text": [
      "99.67%\n",
      "0.00%\n",
      "99.93%\n",
      "0.00%\n"
     ]
    }
   ],
   "source": [
    "def calc_fil_pctSpd(df):\n",
    "    # Returns average fill as % of spread at arrival time.  0 = Bid, 0.5 = Mid, 1 = Ask\n",
    "    s = (df['fillPrice'] - df['fillBid']) / (df['fillAsk'] - df['fillBid']) * df['fillQuantity']\n",
    "    return s.sum() / df['fillQuantity'].sum()\n",
    "\n",
    "for o in [order1, order2, order3, order4]:\n",
    "    print(f'{calc_fil_pctSpd(o):.2%}')\n",
    "    \n",
    "# Ok.  'Active taker algos' only ever hit the bid or offer - they just think they're smart about when\n",
    "# The 'patient' algos seem to do very little making"
   ]
  },
  {
   "cell_type": "code",
   "execution_count": 10,
   "metadata": {},
   "outputs": [
    {
     "name": "stdout",
     "output_type": "stream",
     "text": [
      "383.695\n",
      "3848.99\n",
      "105.94999999999999\n",
      "105.8869934\n"
     ]
    }
   ],
   "source": [
    "# Compare delta adjusted fill vs arrival mid and mark\n",
    "# NOTE SHOULD BE USING PARENT VALUES REALLY HERE\n",
    "arrival_ul = (order3.loc[order3.index[0], 'childAsk'] + order3.loc[order3.index[0], 'childBid'])/2\n",
    "arrival_idx = (order2.loc[order2.index[0], 'childUAsk'] + order2.loc[order2.index[0], 'childUBid'])/2\n",
    "arrival_mid = (order2.loc[order2.index[0], 'childAsk'] + order2.loc[order2.index[0], 'childBid'])/2\n",
    "arrival_mark = order2.loc[order2.index[0], 'childMark']\n",
    "\n",
    "print(arrival_ul)\n",
    "print(arrival_idx)\n",
    "print(arrival_mid)\n",
    "print(arrival_mark)"
   ]
  },
  {
   "cell_type": "code",
   "execution_count": 11,
   "metadata": {},
   "outputs": [
    {
     "name": "stdout",
     "output_type": "stream",
     "text": [
      "105.38909999999998\n",
      "105.41468088999996\n",
      "-0.5353191100000316\n",
      "-0.4723125100000374\n"
     ]
    }
   ],
   "source": [
    "avg_ul = (order3['fillPrice'] * order3['fillQuantity']).sum() / order3['fillQuantity'].sum()\n",
    "s = (order2['fillPrice'] * order2['fillQuantity']).sum() + (order4['fillPrice'] * order4['fillQuantity']).sum()\n",
    "t = (order2['fillQuantity'].sum() + order4['fillQuantity'].sum())\n",
    "avg_opt = s / t\n",
    "delta = order3['fillQuantity'].sum() / (t * 100 * 10)\n",
    "arrival_opt_adj = avg_opt + delta * (arrival_ul - avg_ul)\n",
    "print(avg_opt)\n",
    "print(arrival_opt_adj)\n",
    "print (arrival_opt_adj - arrival_mid)\n",
    "print (arrival_opt_adj - arrival_mark)"
   ]
  },
  {
   "cell_type": "code",
   "execution_count": 12,
   "metadata": {},
   "outputs": [
    {
     "name": "stdout",
     "output_type": "stream",
     "text": [
      "-0.08908622233317218\n",
      "-0.07860085039108626\n"
     ]
    }
   ],
   "source": [
    "# Compare vs contract vega\n",
    "vega = 6.009\n",
    "print((arrival_opt_adj - arrival_mid) / vega)\n",
    "print((arrival_opt_adj - arrival_mark) / vega)\n",
    "# so less than .1 vol discount vs. mark"
   ]
  },
  {
   "cell_type": "code",
   "execution_count": 13,
   "metadata": {},
   "outputs": [
    {
     "name": "stdout",
     "output_type": "stream",
     "text": [
      "0.15489130434782516\n",
      "-3.4560953066668914\n",
      "-3.0493158540353473\n"
     ]
    }
   ],
   "source": [
    "# Compare vs (*not* fill-weighted) average spread\n",
    "spd_sum = (order2['fillAsk'] - order2['fillBid']).sum() + (order4['fillAsk'] - order4['fillBid']).sum()\n",
    "half_spd = 0.5 * spd_sum / (order2.shape[0] + order4.shape[0])\n",
    "print(half_spd)\n",
    "print((arrival_opt_adj - arrival_mid) / half_spd)\n",
    "print((arrival_opt_adj - arrival_mark) / half_spd)\n",
    "\n",
    "# This doesn't look good.  It means we crossed spread on both options and delta\n",
    "# so ended up selling below the bid\n",
    "\n",
    "# Although - we only capture the bid-offer when it trades.  That might be when it's unusually tight\n",
    "\n",
    "# Also, this analysis doesn't take into account whether vol went down over the period.\n",
    "# We could use the ATM vols provided to investigate that"
   ]
  },
  {
   "cell_type": "code",
   "execution_count": 14,
   "metadata": {},
   "outputs": [
    {
     "name": "stdout",
     "output_type": "stream",
     "text": [
      "4.4%\n",
      "0.7%\n"
     ]
    }
   ],
   "source": [
    "# For the stock trades, how many were making vs taking?\n",
    "\n",
    "def calc_post_pct(df):\n",
    "    post_shrs = df.loc[df['childOrderHandling']=='PostLimit', 'fillQuantity'].sum()\n",
    "    return post_shrs / df['fillQuantity'].sum()\n",
    "\n",
    "print(f'{calc_post_pct(order1):.1%}') # TwapAlpha\n",
    "print(f'{calc_post_pct(order3):.1%}') # Mix of AlphaVwap2pct and SpdrAuto"
   ]
  }
 ],
 "metadata": {
  "kernelspec": {
   "display_name": "element",
   "language": "python",
   "name": "element"
  },
  "language_info": {
   "codemirror_mode": {
    "name": "ipython",
    "version": 3
   },
   "file_extension": ".py",
   "mimetype": "text/x-python",
   "name": "python",
   "nbconvert_exporter": "python",
   "pygments_lexer": "ipython3",
   "version": "3.9.1"
  }
 },
 "nbformat": 4,
 "nbformat_minor": 4
}
